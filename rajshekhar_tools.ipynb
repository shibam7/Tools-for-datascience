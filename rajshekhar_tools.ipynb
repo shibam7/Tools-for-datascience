{
 "cells": [
  {
   "cell_type": "markdown",
   "id": "570cb2df-f5f3-478e-beaf-5dc074ddd136",
   "metadata": {},
   "source": [
    "# Tools for Data Science"
   ]
  },
  {
   "cell_type": "markdown",
   "id": "b637ba61-5cff-4264-be3d-7be7adcb0c98",
   "metadata": {},
   "source": [
    "In this notebook, Data Science Tools and ecosystem are summarized"
   ]
  },
  {
   "cell_type": "markdown",
   "id": "76e236cc-b114-4f18-a9e1-0f9e3230c72a",
   "metadata": {},
   "source": [
    "Some of the popular languages Data Scientists use are:\n",
    "1. Python\n",
    "2. R\n",
    "3. SQL\n",
    "4. C++\n",
    "5. java , etc"
   ]
  },
  {
   "cell_type": "markdown",
   "id": "5b96067e-7c6e-4967-a24e-4d3dfb9c2623",
   "metadata": {},
   "source": [
    "Some popular Data Science libraries are:\n",
    "1. Tensorflow\n",
    "2. Numpy\n",
    "3. Scipy\n",
    "4. pandas\n",
    "5. Matplotlib\n",
    "6. Keras\n",
    "7. Scikit-learn\n",
    "8. Pytorch, etc"
   ]
  },
  {
   "cell_type": "markdown",
   "id": "42af6568-8c36-41ed-b95b-6e93be79bf56",
   "metadata": {},
   "source": [
    "|Data Scince Tools|\n",
    "|---|\n",
    "|SAS|\n",
    "|Apache Hadoop|\n",
    "|Tensorflow|"
   ]
  },
  {
   "cell_type": "markdown",
   "id": "71e2a041-005c-4a51-a676-a1da138051d3",
   "metadata": {},
   "source": [
    "### Below are a few examples of evaluating arithmetic expressions in Python"
   ]
  },
  {
   "cell_type": "code",
   "execution_count": 3,
   "id": "04a454c2-0e9e-47d1-9571-02598bddecc8",
   "metadata": {},
   "outputs": [
    {
     "data": {
      "text/plain": [
       "30"
      ]
     },
     "execution_count": 3,
     "metadata": {},
     "output_type": "execute_result"
    }
   ],
   "source": [
    "(4*5)+10"
   ]
  },
  {
   "cell_type": "code",
   "execution_count": 4,
   "id": "715d69e8-e68e-4c2e-aded-166c2f7664d4",
   "metadata": {},
   "outputs": [
    {
     "data": {
      "text/plain": [
       "3.3333333333333335"
      ]
     },
     "execution_count": 4,
     "metadata": {},
     "output_type": "execute_result"
    }
   ],
   "source": [
    "200/60"
   ]
  },
  {
   "cell_type": "markdown",
   "id": "609ec14c-1764-4c04-914b-52d187d3d973",
   "metadata": {},
   "source": [
    "_objective_\n",
    "* List popular languages for Data Science\n",
    "* List popular libraries for Data Science\n",
    "* List of well known data Science tools\n",
    "* How to provide comments in cell"
   ]
  },
  {
   "cell_type": "markdown",
   "id": "3828cca1-6334-4bfb-b2d4-df042b30cb07",
   "metadata": {},
   "source": [
    "## Author\n",
    "Santanu Giri"
   ]
  }
 ],
 "metadata": {
  "kernelspec": {
   "display_name": "Python 3 (ipykernel)",
   "language": "python",
   "name": "python3"
  },
  "language_info": {
   "codemirror_mode": {
    "name": "ipython",
    "version": 3
   },
   "file_extension": ".py",
   "mimetype": "text/x-python",
   "name": "python",
   "nbconvert_exporter": "python",
   "pygments_lexer": "ipython3",
   "version": "3.12.1"
  }
 },
 "nbformat": 4,
 "nbformat_minor": 5
}
